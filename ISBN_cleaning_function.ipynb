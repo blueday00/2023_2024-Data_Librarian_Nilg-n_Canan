{
 "cells": [
  {
   "cell_type": "code",
   "execution_count": 13,
   "id": "c5e9ef69",
   "metadata": {},
   "outputs": [],
   "source": [
    "# unbereinigte ISBNs\n",
    "dirty_isbns = [\n",
    "    \" ISBN 978-3-518-58773-7 \", \n",
    "    \"ISBN___978-1491946008 \",\n",
    "    \"ISBN 978-1593276034\"]"
   ]
  },
  {
   "cell_type": "code",
   "execution_count": 1,
   "id": "a1150e0f",
   "metadata": {},
   "outputs": [],
   "source": [
    "def clean_isbn():\n",
    "    isbn = \" ISBN 978-3-518-58773-7 \"\n",
    "    print(isbn)"
   ]
  },
  {
   "cell_type": "code",
   "execution_count": 2,
   "id": "1b00f96d",
   "metadata": {},
   "outputs": [
    {
     "name": "stdout",
     "output_type": "stream",
     "text": [
      " ISBN 978-3-518-58773-7 \n"
     ]
    }
   ],
   "source": [
    "clean_isbn()"
   ]
  },
  {
   "cell_type": "code",
   "execution_count": 3,
   "id": "ca515e49",
   "metadata": {},
   "outputs": [],
   "source": [
    "def clean_isbn():\n",
    "    isbn = \" ISBN 978-3-518-58773-7 \"\n",
    "    isbn = isbn.strip()\n",
    "    print(isbn)"
   ]
  },
  {
   "cell_type": "code",
   "execution_count": 4,
   "id": "c31f6f7d",
   "metadata": {},
   "outputs": [
    {
     "name": "stdout",
     "output_type": "stream",
     "text": [
      "ISBN 978-3-518-58773-7\n"
     ]
    }
   ],
   "source": [
    "clean_isbn()"
   ]
  },
  {
   "cell_type": "code",
   "execution_count": 22,
   "id": "999fff3e",
   "metadata": {},
   "outputs": [],
   "source": [
    "def clean_isbn():\n",
    "    isbn = \" ISBN 978-3-518-58773-7 \"\n",
    "    isbn = isbn.replace(\"ISBN\", \"\")\n",
    "    isbn = isbn.strip()\n",
    "    print(isbn)"
   ]
  },
  {
   "cell_type": "code",
   "execution_count": 7,
   "id": "b303f225",
   "metadata": {},
   "outputs": [
    {
     "name": "stdout",
     "output_type": "stream",
     "text": [
      "978-3-518-58773-7\n"
     ]
    }
   ],
   "source": [
    "clean_isbn()"
   ]
  },
  {
   "cell_type": "code",
   "execution_count": 28,
   "id": "d4e46810",
   "metadata": {},
   "outputs": [],
   "source": [
    "def clean_isbn(isbn):\n",
    "    isbn = isbn.replace(\"ISBN\", \"\")\n",
    "    isbn = isbn.strip()\n",
    "    return isbn"
   ]
  },
  {
   "cell_type": "code",
   "execution_count": 29,
   "id": "092fa9c1",
   "metadata": {},
   "outputs": [],
   "source": [
    "cleaned_isbn = clean_isbn(\" ISBN 978-3-518-58773-7 \")"
   ]
  },
  {
   "cell_type": "code",
   "execution_count": 30,
   "id": "11ae4046",
   "metadata": {},
   "outputs": [
    {
     "name": "stdout",
     "output_type": "stream",
     "text": [
      "978-3-518-58773-7\n"
     ]
    }
   ],
   "source": [
    "print(cleaned_isbn)"
   ]
  },
  {
   "cell_type": "code",
   "execution_count": 31,
   "id": "c7480a3f",
   "metadata": {},
   "outputs": [
    {
     "name": "stdout",
     "output_type": "stream",
     "text": [
      "978-3-518-58773-7\n",
      "___978-1491946008\n",
      "978-1593276034\n"
     ]
    }
   ],
   "source": [
    "for isbn in dirty_isbns:\n",
    "    cleaned_isbn = clean_isbn(isbn)\n",
    "    print(cleaned_isbn)"
   ]
  },
  {
   "cell_type": "code",
   "execution_count": 33,
   "id": "d93b8ca5",
   "metadata": {},
   "outputs": [
    {
     "name": "stdout",
     "output_type": "stream",
     "text": [
      "clean_isbn\t cleaned_isbn\t dirty_isbns\t isbn\t \n"
     ]
    }
   ],
   "source": [
    "%who"
   ]
  },
  {
   "cell_type": "code",
   "execution_count": 34,
   "id": "89f3a9e1",
   "metadata": {},
   "outputs": [
    {
     "name": "stdout",
     "output_type": "stream",
     "text": [
      "Variable       Type        Data/Info\n",
      "------------------------------------\n",
      "clean_isbn     function    <function clean_isbn at 0x7f8390acce00>\n",
      "cleaned_isbn   str         978-1593276034\n",
      "dirty_isbns    list        n=3\n",
      "isbn           str         ISBN 978-1593276034\n"
     ]
    }
   ],
   "source": [
    "%whos"
   ]
  },
  {
   "cell_type": "code",
   "execution_count": 32,
   "id": "6539fe19",
   "metadata": {},
   "outputs": [
    {
     "name": "stdout",
     "output_type": "stream",
     "text": [
      "Requirement already satisfied: pandas in /home/nilguen/anaconda3/lib/python3.11/site-packages (2.0.3)\n",
      "Requirement already satisfied: python-dateutil>=2.8.2 in /home/nilguen/anaconda3/lib/python3.11/site-packages (from pandas) (2.8.2)\n",
      "Requirement already satisfied: pytz>=2020.1 in /home/nilguen/anaconda3/lib/python3.11/site-packages (from pandas) (2023.3.post1)\n",
      "Requirement already satisfied: tzdata>=2022.1 in /home/nilguen/anaconda3/lib/python3.11/site-packages (from pandas) (2023.3)\n",
      "Requirement already satisfied: numpy>=1.21.0 in /home/nilguen/anaconda3/lib/python3.11/site-packages (from pandas) (1.24.3)\n",
      "Requirement already satisfied: six>=1.5 in /home/nilguen/anaconda3/lib/python3.11/site-packages (from python-dateutil>=2.8.2->pandas) (1.16.0)\n"
     ]
    }
   ],
   "source": [
    "!pip install pandas"
   ]
  },
  {
   "cell_type": "code",
   "execution_count": null,
   "id": "140c6dee",
   "metadata": {},
   "outputs": [],
   "source": []
  },
  {
   "cell_type": "code",
   "execution_count": null,
   "id": "4e9e1945",
   "metadata": {},
   "outputs": [],
   "source": []
  }
 ],
 "metadata": {
  "kernelspec": {
   "display_name": "Python 3 (ipykernel)",
   "language": "python",
   "name": "python3"
  },
  "language_info": {
   "codemirror_mode": {
    "name": "ipython",
    "version": 3
   },
   "file_extension": ".py",
   "mimetype": "text/x-python",
   "name": "python",
   "nbconvert_exporter": "python",
   "pygments_lexer": "ipython3",
   "version": "3.11.5"
  }
 },
 "nbformat": 4,
 "nbformat_minor": 5
}
